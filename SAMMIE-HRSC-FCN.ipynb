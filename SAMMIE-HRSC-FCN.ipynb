{
 "cells": [
  {
   "cell_type": "markdown",
   "metadata": {},
   "source": [
    "# FCN训练HRSC-Sea，测试HRSC-Land，分析舰船标签效果"
   ]
  },
  {
   "cell_type": "markdown",
   "metadata": {},
   "source": [
    "标签使用15类目标的旋转框 DOTA-v1.0\\train\\labelTxt-v1.0\\labelTxt\n",
    "\n",
    "BBAVectors旋转目标检测算法安装部署使用笔记\n",
    "https://blog.csdn.net/qq_40608730/article/details/119600956\n",
    "\n",
    "python opencv minAreaRect 生成最小外接矩形\n",
    "https://blog.csdn.net/lanyuelvyun/article/details/76614872\n",
    "\n",
    "OpenCV-Python 形状轮廓拟合\n",
    "https://blog.csdn.net/qq_38828370/article/details/119759530\n",
    "\n",
    "#1 假设对图片上任意点(x,y)，绕一个坐标点(rx0,ry0)逆时针旋转a角度后的新的坐标设为(x0, y0)，有公式：  \n",
    "#2 x0= (x - rx0)*cos(a) - (y - ry0)*sin(a) + rx0  \n",
    "#3 y0= (x - rx0)*sin(a) + (y - ry0)*cos(a) + ry0  \n",
    "https://www.cnblogs.com/lyj0123/p/15741652.html\n",
    "\n",
    "python cv2截取不规则区域图片\n",
    "https://www.cnblogs.com/gmhappy/p/11863932.html"
   ]
  },
  {
   "cell_type": "code",
   "execution_count": 1,
   "metadata": {},
   "outputs": [],
   "source": [
    "import collections\n",
    "import torch\n",
    "import torch.nn as nn\n",
    "import torchvision\n",
    "import torch.nn.functional as F \n",
    "from torchvision.models import resnet\n",
    "import numpy as np\n",
    "import pdb\n",
    "import matplotlib.pyplot as plt\n",
    "import sys"
   ]
  },
  {
   "cell_type": "markdown",
   "metadata": {},
   "source": [
    "### 载入数据"
   ]
  },
  {
   "cell_type": "code",
   "execution_count": 2,
   "metadata": {},
   "outputs": [],
   "source": [
    "%matplotlib inline\n",
    "import argparse\n",
    "def parse_args():\n",
    "    parser = argparse.ArgumentParser(description='BBAVectors Implementation')\n",
    "    parser.add_argument('--dataset', type=str, default='dota', help='Name of dataset') #dota格式标签\n",
    "    parser.add_argument('--data_dir', type=str, default='D:/Datasets/HRSC', help='Data directory')\n",
    "    parser.add_argument('--batch_size', type=int, default=8, help='Number of batch size')\n",
    "    parser.add_argument('--num_workers', type=int, default=0, help='Number of workers') #0, BrokenPipeError: [Errno 32] Broken pipe\n",
    "    parser.add_argument('--phase', type=str, default='train', help='Phase choice= {train, test, eval}')\n",
    "    parser.add_argument('--input_h', type=int, default=256, help='Resized image height') #256\n",
    "    parser.add_argument('--input_w', type=int, default=256, help='Resized image width')  #256\n",
    "    parser.add_argument('--K', type=int, default=500, help='Maximum of objects')\n",
    "    parser.add_argument('--conf_thresh', type=float, default=0.18, help='Confidence threshold, 0.1 for general evaluation')\n",
    "    \n",
    "    parser.add_argument('--resume', type=str, default='SAMMIE_HRSC_FCN_model_last.pth', help='Weights resumed in testing and evaluation')\n",
    "    \n",
    "    #由于在jupyter notebook中，args不为空。\n",
    "    args = parser.parse_args(args=[])\n",
    "    return args"
   ]
  },
  {
   "cell_type": "code",
   "execution_count": 3,
   "metadata": {},
   "outputs": [
    {
     "name": "stdout",
     "output_type": "stream",
     "text": [
      "D:/Datasets/HRSC\n",
      "SAMMIE_HRSC_FCN_model_last.pth\n"
     ]
    }
   ],
   "source": [
    "import func_utils\n",
    "from datasets.dataset_dota import DOTA\n",
    "from datasets.dataset_hrsc import HRSC\n",
    "\n",
    "args = parse_args()\n",
    "print(args.data_dir)\n",
    "print(args.resume)\n",
    "\n",
    "\n",
    "dataset = {'dota': DOTA, 'hrsc': HRSC}\n",
    "dataset_module = dataset[args.dataset]"
   ]
  },
  {
   "cell_type": "code",
   "execution_count": 4,
   "metadata": {},
   "outputs": [],
   "source": [
    "down_ratio = 1\n",
    "dataset_phase = {'dota': ['train','test'], 'hrsc': ['train', 'test']}\n",
    "\n",
    "dsets = {x: dataset_module(data_dir=args.data_dir,\n",
    "                           phase= x,\n",
    "                           input_h=args.input_h,\n",
    "                           input_w=args.input_w,\n",
    "                           down_ratio=down_ratio)\n",
    "         for x in dataset_phase[args.dataset]}"
   ]
  },
  {
   "cell_type": "code",
   "execution_count": 5,
   "metadata": {},
   "outputs": [
    {
     "data": {
      "text/plain": [
       "{'plane': 0,\n",
       " 'baseball-diamond': 1,\n",
       " 'bridge': 2,\n",
       " 'ground-track-field': 3,\n",
       " 'small-vehicle': 4,\n",
       " 'large-vehicle': 5,\n",
       " 'ship': 6,\n",
       " 'tennis-court': 7,\n",
       " 'basketball-court': 8,\n",
       " 'storage-tank': 9,\n",
       " 'soccer-ball-field': 10,\n",
       " 'roundabout': 11,\n",
       " 'harbor': 12,\n",
       " 'swimming-pool': 13,\n",
       " 'helicopter': 14}"
      ]
     },
     "execution_count": 5,
     "metadata": {},
     "output_type": "execute_result"
    }
   ],
   "source": [
    "dsets['train'].cat_ids  # 只有ship = 6"
   ]
  },
  {
   "cell_type": "code",
   "execution_count": 6,
   "metadata": {},
   "outputs": [
    {
     "name": "stdout",
     "output_type": "stream",
     "text": [
      "dataset num: 218 1462\n"
     ]
    }
   ],
   "source": [
    "print('dataset num:', len(dsets['train']),len(dsets['test']))"
   ]
  },
  {
   "cell_type": "code",
   "execution_count": 7,
   "metadata": {},
   "outputs": [],
   "source": [
    "import torch\n",
    "def collater(data):\n",
    "    out_data_dict = {}\n",
    "    for name in data[0]:\n",
    "        out_data_dict[name] = []\n",
    "    for sample in data:\n",
    "        for name in sample:\n",
    "            #pdb.set_trace()\n",
    "            out_data_dict[name].append(torch.from_numpy(sample[name])) #\n",
    "    for name in out_data_dict:\n",
    "        out_data_dict[name] = torch.stack(out_data_dict[name], dim=0)\n",
    "    return out_data_dict\n",
    "\n",
    "dsets_loader = {}\n",
    "dsets_loader['train'] = torch.utils.data.DataLoader(\n",
    "    dsets['train'],\n",
    "    batch_size=args.batch_size,\n",
    "    shuffle=False,\n",
    "    num_workers= args.num_workers, #0,  # 此处必须重新执行              \n",
    "    pin_memory=False, # True,\n",
    "    drop_last=True,\n",
    "    collate_fn=collater)\n",
    "\n",
    "dsets_loader['test'] = torch.utils.data.DataLoader(\n",
    "    dsets['test'],\n",
    "    batch_size=args.batch_size,\n",
    "    shuffle=False,\n",
    "    num_workers= args.num_workers, #0,  # 此处必须重新执行              \n",
    "    pin_memory=False, # True,\n",
    "    drop_last=True)"
   ]
  },
  {
   "cell_type": "code",
   "execution_count": 8,
   "metadata": {},
   "outputs": [
    {
     "data": {
      "text/plain": [
       "(dict_keys(['input', 'hm', 'reg_mask', 'ind', 'wh', 'reg', 'cls_theta', 'rect', 'cat']),\n",
       " dict_keys(['image', 'img_id', 'image_w', 'image_h']))"
      ]
     },
     "execution_count": 8,
     "metadata": {},
     "output_type": "execute_result"
    }
   ],
   "source": [
    "next(iter(dsets_loader['train'])).keys(), next(iter(dsets_loader['test'])).keys()"
   ]
  },
  {
   "cell_type": "markdown",
   "metadata": {},
   "source": [
    "# 配置模型和损失函数"
   ]
  },
  {
   "cell_type": "code",
   "execution_count": 26,
   "metadata": {},
   "outputs": [],
   "source": [
    "model = torchvision.models.segmentation.fcn_resnet50(pretrained=False, progress=True, num_classes=3, aux_loss=None)"
   ]
  },
  {
   "cell_type": "code",
   "execution_count": 27,
   "metadata": {},
   "outputs": [
    {
     "name": "stdout",
     "output_type": "stream",
     "text": [
      "SAMMIE_HRSC_FCN_model_last.pth\n"
     ]
    },
    {
     "data": {
      "text/plain": [
       "<All keys matched successfully>"
      ]
     },
     "execution_count": 27,
     "metadata": {},
     "output_type": "execute_result"
    }
   ],
   "source": [
    "print(args.resume)\n",
    "model.load_state_dict(torch.load(args.resume)) #加载模型参数"
   ]
  },
  {
   "cell_type": "code",
   "execution_count": 28,
   "metadata": {},
   "outputs": [
    {
     "data": {
      "text/plain": [
       "<All keys matched successfully>"
      ]
     },
     "execution_count": 28,
     "metadata": {},
     "output_type": "execute_result"
    }
   ],
   "source": [
    "#model.load_state_dict(torch.load('SAMMIE_Ship_FCN_model_last.pth'))\n",
    "model.load_state_dict(torch.load('SAMMIE_Sea_FCN_model_last.pth'))"
   ]
  },
  {
   "cell_type": "code",
   "execution_count": 29,
   "metadata": {},
   "outputs": [
    {
     "data": {
      "text/plain": [
       "tensor(1572864)"
      ]
     },
     "execution_count": 29,
     "metadata": {},
     "output_type": "execute_result"
    }
   ],
   "source": [
    "X_example = data_dict['input'].cpu()\n",
    "X_example.shape\n",
    "\n",
    "y = model(X_example)['out']\n",
    "y.shape\n",
    "\n",
    "torch.pow(X_example - y,2).sum()\n",
    "torch.tensor(X_example.shape).cumprod(dim=0)[-1]"
   ]
  },
  {
   "cell_type": "code",
   "execution_count": 30,
   "metadata": {},
   "outputs": [
    {
     "data": {
      "text/plain": [
       "tensor(0.1228, grad_fn=<DivBackward0>)"
      ]
     },
     "execution_count": 30,
     "metadata": {},
     "output_type": "execute_result"
    }
   ],
   "source": [
    "# 损失和优化函数\n",
    "class SquaredErrorLoss(nn.Module):\n",
    "    def __init__(self):\n",
    "        super(SquaredErrorLoss, self).__init__()\n",
    "        \n",
    "    def forward(self, X, Y):\n",
    "        input_shape = torch.tensor(X.size())\n",
    "        Error = torch.pow(X - Y, 2).sum() / input_shape.cumprod(dim=0)[-1]\n",
    "        return Error\n",
    "    \n",
    "\n",
    "loss_f = SquaredErrorLoss()  #torch.nn.CrossEntropyLoss()\n",
    "optimizer = torch.optim.Adam(model.parameters(), lr=0.00001)\n",
    "\n",
    "loss_f(X_example, y)"
   ]
  },
  {
   "cell_type": "code",
   "execution_count": 31,
   "metadata": {},
   "outputs": [
    {
     "data": {
      "text/plain": [
       "tensor([0.0722, 0.1289, 0.1599, 0.0813, 0.1471, 0.1104, 0.1375, 0.1448],\n",
       "       grad_fn=<MeanBackward1>)"
      ]
     },
     "execution_count": 31,
     "metadata": {},
     "output_type": "execute_result"
    }
   ],
   "source": [
    "pred = torch.mean(pow(X_example - y,2), dim=[1])\n",
    "pred.mean(dim=[1,2])"
   ]
  },
  {
   "cell_type": "code",
   "execution_count": 32,
   "metadata": {},
   "outputs": [],
   "source": [
    "import collections\n",
    "import torch\n",
    "import torch.nn as nn\n",
    "import torchvision\n",
    "from torchvision import datasets, transforms\n",
    "from torch.autograd import Variable\n",
    "import torch.nn.functional as F\n",
    "import time\n",
    "import pdb\n",
    "import os"
   ]
  },
  {
   "cell_type": "code",
   "execution_count": 22,
   "metadata": {},
   "outputs": [
    {
     "name": "stdout",
     "output_type": "stream",
     "text": [
      "_CudaDeviceProperties(name='NVIDIA GeForce GTX 1080', major=6, minor=1, total_memory=8192MB, multi_processor_count=20)\n",
      "Let's use 2 GPUs!\n"
     ]
    }
   ],
   "source": [
    "# 配置GPU，开始进行训练\n",
    "Use_gpu = torch.cuda.is_available()\n",
    "\n",
    "if Use_gpu:\n",
    "    print( torch.cuda.get_device_properties(device = 0) )\n",
    "    model = model.cuda()\n",
    "    \n",
    "# 配置多GPU\n",
    "if torch.cuda.device_count() > 1:\n",
    "    os.environ['CUDA_VISIBLE_DEVICES'] = '0,1'\n",
    "    print(\"Let's use\", torch.cuda.device_count(), \"GPUs!\")\n",
    "    model = nn.DataParallel(model)"
   ]
  },
  {
   "cell_type": "code",
   "execution_count": 23,
   "metadata": {},
   "outputs": [
    {
     "name": "stdout",
     "output_type": "stream",
     "text": [
      "Epoch 0/1\n",
      "----------\n",
      "Training...\n"
     ]
    },
    {
     "name": "stderr",
     "output_type": "stream",
     "text": [
      "C:\\ProgramData\\Anaconda3\\lib\\site-packages\\torch\\cuda\\nccl.py:15: UserWarning: PyTorch is not compiled with NCCL support\n",
      "  warnings.warn('PyTorch is not compiled with NCCL support')\n"
     ]
    },
    {
     "name": "stdout",
     "output_type": "stream",
     "text": [
      "train Loss:0.247207  Acc:0.059567%\n",
      "Finish time 0.76 min\n",
      "Epoch 1/1\n",
      "----------\n",
      "Training...\n",
      "train Loss:0.129194  Acc:0.058515%\n",
      "Finish time 1.39 min\n"
     ]
    }
   ],
   "source": [
    "epoch_n = 400  #2\n",
    "time_open = time.time()\n",
    "f = open('Loss_log.txt', 'a+')\n",
    "\n",
    "for epoch in range(epoch_n):\n",
    "    print(\"Epoch {}/{}\".format(epoch, epoch_n - 1))\n",
    "    print(\"-\"*10)\n",
    "    \n",
    "    for phase in [\"train\"]: #, \"valid\"\n",
    "        if phase == \"train\":\n",
    "            print(\"Training...\")\n",
    "            model.train(True)\n",
    "        else:\n",
    "            # 把BatchNormalization和DropOut固定住，不会取平均，而是用训练好的值\n",
    "            print(\"Valid...\")\n",
    "            model.train(False) \n",
    "            \n",
    "        running_loss = 0.0\n",
    "        running_corrects = 0.0\n",
    "        ship_error = []\n",
    "        \n",
    "        # 组合为一个索引序列\n",
    "        for batch, data_dict in enumerate(dsets_loader['train'], start = 1):\n",
    "            \n",
    "            X = data_dict['input']\n",
    "            y = data_dict['hm']\n",
    "            \n",
    "            if Use_gpu:\n",
    "                X, y = Variable(X.cuda()), Variable(y.cuda())\n",
    "            else:\n",
    "                X, y = Variable(X), Variable(y)\n",
    "            \n",
    "            y_pred = model.forward(X)['out']\n",
    "            error_map = torch.pow(X - y_pred, 2)\n",
    "            pred = torch.mean(error_map, dim=[1])\n",
    "            \n",
    "            # Squared Error Loss\n",
    "            loss = loss_f(y_pred, X) \n",
    "            \n",
    "            # 对参数梯度的归零\n",
    "            optimizer.zero_grad()\n",
    "            if phase == \"train\":\n",
    "                # 计算反向传播梯度值 P167\n",
    "                loss.backward() \n",
    "                # 对节点的参数进行梯度更新 P169\n",
    "                optimizer.step()\n",
    "                \n",
    "            running_loss += float(loss.data)\n",
    "            running_corrects += float(torch.sum(pred.mean(dim=[1,2])))\n",
    "            \n",
    "            if batch%10000 == 0 and phase == \"train\":\n",
    "                print(\"Batch {}, Train Loss:{:.4f}, Train ACC:{:.4f}\"\n",
    "                      .format(batch, running_loss/batch, 100*running_corrects/batch/ len(pred)))\n",
    "                print(\"Current time {:.2f} min\".format((time.time() - time_open)/60))\n",
    "            \n",
    "            # 分析舰船位置的结果\n",
    "            # error_map = pow(y_pred - X, 2) #sl \n",
    "            for bat,num in itertools.product(range(data_dict['rect'].shape[0]),\n",
    "                       range(data_dict['rect'].shape[1])):\n",
    "                rect = data_dict['rect'][bat,num]\n",
    "                if sum(rect) <= 0:\n",
    "                    continue\n",
    "                #print(rect)\n",
    "                Ew,Eh = (3, 1.5) #扩大宽和长，包含周围环境\n",
    "                if rect[2] > rect[3]:\n",
    "                    w,h = rect[2] * Eh,rect[3] * Ew\n",
    "                else:\n",
    "                    w,h = rect[2] * Ew,rect[3] * Eh\n",
    "                img = error_map[bat].permute([1,2,0])\n",
    "                target = rectCrop(img, (rect[0],rect[1],w, h,rect[4]))\n",
    "                ship_error.append( float(target.sum()/((target>0).sum())) )\n",
    "                #plt.imshow( np.array(target.detach().cpu()) + 0.7  )\n",
    "                #plt.show()\n",
    "                #pdb.set_trace()\n",
    "                \n",
    "        epoch_loss = running_loss*dsets_loader['train'].batch_size/len(dsets_loader['train'])\n",
    "        #epoch_acc = 100*running_corrects/len(dsets_loader['train'])\n",
    "        epoch_acc = np.mean(ship_error)\n",
    "        \n",
    "        print(\"{} Loss:{:.6f}  Acc:{:.6f}%\".format(phase, epoch_loss, epoch_acc))\n",
    "        f.write(\"{} Loss:{:.6f}  Acc:{:.6f}%\\n\".format(phase, epoch_loss, epoch_acc))\n",
    "        time_end = time.time() - time_open\n",
    "        print(\"Finish time {:.2f} min\".format(time_end/60))\n",
    "\n",
    "f.close()\n",
    "if torch.cuda.device_count() > 1:\n",
    "    torch.save(model.module.state_dict(), args.resume)\n",
    "else:\n",
    "    torch.save(model.state_dict(), args.resume)"
   ]
  },
  {
   "cell_type": "raw",
   "metadata": {},
   "source": [
    "print(np.mean(ship_error), np.max(ship_error))\n",
    "plt.plot(ship_error,'-*')"
   ]
  },
  {
   "cell_type": "code",
   "execution_count": null,
   "metadata": {},
   "outputs": [],
   "source": [
    "import matplotlib.pyplot as plt\n",
    "from skimage import io\n",
    "\n",
    "n = 5\n",
    "img = np.array(pow((X-y_pred),2)[n,:,:,:].detach().cpu().mean(dim=0))\n",
    "io.imshow(np.array( X[n,:,:,:].detach().cpu().permute([1,2,0])))\n",
    "plt.figure()\n",
    "plt.imshow(img, cmap=plt.cm.jet)\n",
    "plt.colorbar()"
   ]
  },
  {
   "cell_type": "code",
   "execution_count": 101,
   "metadata": {},
   "outputs": [
    {
     "data": {
      "text/plain": [
       "tensor([[0.0002, 0.0002, 0.0005,  ..., 0.0006, 0.0006, 0.0007],\n",
       "        [0.0004, 0.0004, 0.0004,  ..., 0.0007, 0.0009, 0.0007],\n",
       "        [0.0004, 0.0003, 0.0002,  ..., 0.0007, 0.0007, 0.0009],\n",
       "        ...,\n",
       "        [0.0027, 0.0030, 0.0018,  ..., 0.0019, 0.0018, 0.0019],\n",
       "        [0.0026, 0.0024, 0.0015,  ..., 0.0018, 0.0015, 0.0023],\n",
       "        [0.0027, 0.0027, 0.0031,  ..., 0.0015, 0.0019, 0.0027]])"
      ]
     },
     "execution_count": 101,
     "metadata": {},
     "output_type": "execute_result"
    }
   ],
   "source": [
    "pow((X-y_pred),2)[5,:,:,:].detach().cpu().mean(dim=0)"
   ]
  },
  {
   "cell_type": "markdown",
   "metadata": {},
   "source": [
    "# 图像分割，陆地区域对比测试"
   ]
  },
  {
   "cell_type": "code",
   "execution_count": 39,
   "metadata": {},
   "outputs": [],
   "source": [
    "import os\n",
    "args.data_dir = 'D:/Datasets/HRSC'\n",
    "image_set_index_file = os.path.join(args.data_dir, 'Segmentations.txt')\n",
    "\n",
    "with open(image_set_index_file, 'r') as f:\n",
    "    lines = f.readlines()\n",
    "segm_lists = [line.strip() for line in lines]"
   ]
  },
  {
   "cell_type": "code",
   "execution_count": 40,
   "metadata": {},
   "outputs": [
    {
     "name": "stderr",
     "output_type": "stream",
     "text": [
      "C:\\ProgramData\\Anaconda3\\lib\\site-packages\\ipykernel_launcher.py:71: RuntimeWarning: invalid value encountered in double_scalars\n",
      "C:\\ProgramData\\Anaconda3\\lib\\site-packages\\ipykernel_launcher.py:74: RuntimeWarning: invalid value encountered in double_scalars\n"
     ]
    },
    {
     "name": "stdout",
     "output_type": "stream",
     "text": [
      "proceeding 24%, Error Map: 0.025295088067650795\n",
      "proceeding 49%, Error Map: 0.03928942605853081\n",
      "proceeding 74%, Error Map: 0.035833682864904404\n"
     ]
    },
    {
     "name": "stderr",
     "output_type": "stream",
     "text": [
      "C:\\ProgramData\\Anaconda3\\lib\\site-packages\\ipykernel_launcher.py:77: RuntimeWarning: invalid value encountered in double_scalars\n"
     ]
    },
    {
     "name": "stdout",
     "output_type": "stream",
     "text": [
      "proceeding 99%, Error Map: 0.05245853587985039\n"
     ]
    }
   ],
   "source": [
    "model.train(False) \n",
    "\n",
    "land_error = []\n",
    "ship_error = []\n",
    "sea_error = []\n",
    "\n",
    "for index in range(len(segm_lists)):\n",
    "    filename = segm_lists[index]\n",
    "    imgFile = os.path.join(args.data_dir,'images',filename +'.png')\n",
    "    labelFile = os.path.join(args.data_dir,'labelTXT',filename+'.txt')\n",
    "    segmFile = os.path.join(args.data_dir,'Segmentations',filename+'.png')\n",
    "    \n",
    "    image = cv2.imread(imgFile)\n",
    "    segm  = cv2.imread(segmFile)\n",
    "    annotation = load_annotation(image, labelFile)\n",
    "    \n",
    "    # 预处理image\n",
    "    image = cv2.resize(image, [args.input_h, args.input_w])\n",
    "    image = np.asarray(np.clip(image, a_min=0., a_max=255.), np.float32)\n",
    "    #image = self.image_distort(np.asarray(image, np.float32))\n",
    "    image = np.asarray(np.clip(image, a_min=0., a_max=255.), np.float32)\n",
    "    image = np.transpose(image / 255. - 0.5, (2, 0, 1))\n",
    "    \n",
    "    # 预处理 Segmentation，提取白色陆地区域\n",
    "    segm = cv2.resize(segm, [args.input_h, args.input_w])\n",
    "    idx = np.where((segm[:,:,0]>250)*(segm[:,:,1]>250)*(segm[:,:,2]>250))\n",
    "    segmLand = np.zeros(segm.shape)\n",
    "    segmLand[idx] = (1,1,1)\n",
    "    #plt.imshow((segmLand+0.5) * np.transpose(image+0.5, (1,2,0)) )\n",
    "    \n",
    "    # 预处理 Segmentation，提取黑色海洋区域\n",
    "    segm = cv2.resize(segm, [args.input_h, args.input_w])\n",
    "    idx = np.where((segm[:,:,0]<5)*(segm[:,:,1]<5)*(segm[:,:,2]<5))\n",
    "    segmSea = np.zeros(segm.shape)\n",
    "    segmSea[idx] = (1,1,1)\n",
    "    \n",
    "    # 正向传播\n",
    "    device = next(model.parameters()).device\n",
    "    X = torch.tensor(image,device=device).unsqueeze(0)\n",
    "    segm = torch.tensor(segmLand, device=device)\n",
    "    \n",
    "    y_pred = model.forward(X)['out']\n",
    "    error_map = torch.pow(X - y_pred, 2)\n",
    "    pred = torch.mean(error_map, dim=[1])\n",
    "    if ((index+1)/len(segm_lists)*100)%25 == 0:\n",
    "        print(\"proceeding {}%, Error Map: {}\".format(index*100//len(segm_lists),\n",
    "                                                 error_map.mean()))\n",
    "    \n",
    "    boxList= []\n",
    "    maskShip = np.zeros(np.transpose(image,[1,2,0]).shape)\n",
    "    for pts in annotation['rect']:\n",
    "        #print(pts)\n",
    "        x,y,w,h, angle= pts[:5]\n",
    "        Ew,Eh = (3, 1.5) # #扩大宽和长，包含周围环境\n",
    "        if w > h:\n",
    "            w,h = w * Eh, h * Ew\n",
    "        else:\n",
    "            w,h = w * Ew, h * Eh\n",
    "        # 获取最小外接矩形的4个顶点坐标\n",
    "        box = cv2.boxPoints(((x,y),(w,h),angle)) \n",
    "        box = np.int0(box)\n",
    "        boxList.append(box)\n",
    "        mask = np.zeros(np.transpose(image,[1,2,0]).shape)\n",
    "        cv2.fillPoly(mask, [box], (1,1,1))\n",
    "        maskShip = maskShip + mask\n",
    "    maskShip[maskShip>1] = 1\n",
    "    \n",
    "    \n",
    "    \n",
    "    target = error_map[0].permute([1,2,0]).cpu().detach().numpy() * maskShip\n",
    "    ship_error.append( float(target.sum()/((target>0).sum())) )\n",
    "    \n",
    "    target = error_map[0].permute([1,2,0]).cpu().detach().numpy() * segmLand\n",
    "    land_error.append( float(target.sum()/((target>0).sum())) )\n",
    "    \n",
    "    target = error_map[0].permute([1,2,0]).cpu().detach().numpy() * segmSea\n",
    "    sea_error.append( float(target.sum()/((target>0).sum())) )\n",
    "    \n",
    "    \"\"\"\n",
    "    image = cv2.drawContours( np.transpose(image,[1,2,0])+0.5, boxList, -1, (0,255,0), 1)\n",
    "    cv2.imshow('img',image * (segmLand + maskShip*0.5 + 0.1))\n",
    "    cv2.waitKey(0)\n",
    "    cv2.destroyAllWindows()\n",
    "    \"\"\""
   ]
  },
  {
   "cell_type": "code",
   "execution_count": 41,
   "metadata": {},
   "outputs": [
    {
     "data": {
      "text/html": [
       "<div>\n",
       "<style scoped>\n",
       "    .dataframe tbody tr th:only-of-type {\n",
       "        vertical-align: middle;\n",
       "    }\n",
       "\n",
       "    .dataframe tbody tr th {\n",
       "        vertical-align: top;\n",
       "    }\n",
       "\n",
       "    .dataframe thead th {\n",
       "        text-align: right;\n",
       "    }\n",
       "</style>\n",
       "<table border=\"1\" class=\"dataframe\">\n",
       "  <thead>\n",
       "    <tr style=\"text-align: right;\">\n",
       "      <th></th>\n",
       "      <th>list</th>\n",
       "      <th>ship</th>\n",
       "      <th>land</th>\n",
       "      <th>sea</th>\n",
       "    </tr>\n",
       "  </thead>\n",
       "  <tbody>\n",
       "    <tr>\n",
       "      <th>257</th>\n",
       "      <td>100001237</td>\n",
       "      <td>0.160230</td>\n",
       "      <td>0.215463</td>\n",
       "      <td>0.112766</td>\n",
       "    </tr>\n",
       "    <tr>\n",
       "      <th>256</th>\n",
       "      <td>100001236</td>\n",
       "      <td>0.157067</td>\n",
       "      <td>0.190824</td>\n",
       "      <td>0.105875</td>\n",
       "    </tr>\n",
       "    <tr>\n",
       "      <th>258</th>\n",
       "      <td>100001241</td>\n",
       "      <td>0.152837</td>\n",
       "      <td>0.159449</td>\n",
       "      <td>0.111697</td>\n",
       "    </tr>\n",
       "    <tr>\n",
       "      <th>367</th>\n",
       "      <td>100001512</td>\n",
       "      <td>0.150746</td>\n",
       "      <td>0.172153</td>\n",
       "      <td>0.011608</td>\n",
       "    </tr>\n",
       "    <tr>\n",
       "      <th>298</th>\n",
       "      <td>100001369</td>\n",
       "      <td>0.142352</td>\n",
       "      <td>0.161968</td>\n",
       "      <td>0.024587</td>\n",
       "    </tr>\n",
       "  </tbody>\n",
       "</table>\n",
       "</div>"
      ],
      "text/plain": [
       "          list      ship      land       sea\n",
       "257  100001237  0.160230  0.215463  0.112766\n",
       "256  100001236  0.157067  0.190824  0.105875\n",
       "258  100001241  0.152837  0.159449  0.111697\n",
       "367  100001512  0.150746  0.172153  0.011608\n",
       "298  100001369  0.142352  0.161968  0.024587"
      ]
     },
     "execution_count": 41,
     "metadata": {},
     "output_type": "execute_result"
    }
   ],
   "source": [
    "import pandas as pd\n",
    "count_error =  pd.DataFrame({'list':segm_lists,'ship':ship_error, 'land':land_error, 'sea':sea_error} )\n",
    "count_error = count_error.sort_values(by=\"ship\",axis=0,ascending=False,inplace=False)\n",
    "count_error.head()"
   ]
  },
  {
   "cell_type": "code",
   "execution_count": 42,
   "metadata": {},
   "outputs": [
    {
     "name": "stdout",
     "output_type": "stream",
     "text": [
      "402\n",
      "land>ship ratio: 0.900497512437811\n",
      "land/ship average: 1.5941185512753215\n"
     ]
    }
   ],
   "source": [
    "count = count_error.dropna(axis=0) # 除去nan\n",
    "print(len(count))\n",
    "print( \"land>ship ratio: {}\".format(sum(count['land'] > count['ship']) / len(count)) )\n",
    "print( \"land/ship average: {}\".format(np.mean(count['land'] / count['ship']) ))"
   ]
  },
  {
   "cell_type": "code",
   "execution_count": 75,
   "metadata": {},
   "outputs": [
    {
     "name": "stdout",
     "output_type": "stream",
     "text": [
      "Sea Error: 0.02171537472276362\n",
      "Land Error: 0.0902046563258378\n",
      "Ship Error: 0.02883687470954611\n"
     ]
    },
    {
     "data": {
      "text/plain": [
       "<matplotlib.legend.Legend at 0x181d6524cc8>"
      ]
     },
     "execution_count": 75,
     "metadata": {},
     "output_type": "execute_result"
    },
    {
     "data": {
      "image/png": "[encoded data removed]",
      "text/plain": [
       "<Figure size 432x288 with 1 Axes>"
      ]
     },
     "metadata": {
      "needs_background": "light"
     },
     "output_type": "display_data"
    },
    {
     "data": {
      "image/png": "[encoded data removed]",
      "text/plain": [
       "<Figure size 432x288 with 1 Axes>"
      ]
     },
     "metadata": {
      "needs_background": "light"
     },
     "output_type": "display_data"
    }
   ],
   "source": [
    "print('Sea Error:', count_error['sea'].dropna().mean())\n",
    "print('Land Error:', count_error['land'].dropna().mean())\n",
    "print('Ship Error:', count_error['ship'].dropna().mean()*0.5)\n",
    "plt.plot( count_error['sea'].values,'r.',label='Sea Error',color=(103/255,167/255,200/255) )\n",
    "plt.plot( count_error['land'].values,'b.',label='Land Error',color=(255/255,190/255,134/255) )\n",
    "plt.plot( count_error['ship'].values,'m.',label='Ship Error',color=(107/255,200/255,107/255) )\n",
    "plt.ylim(0,0.4)\n",
    "plt.legend()\n",
    "\n",
    "plt.figure()\n",
    "plt.hist( count_error['sea'],range=[0,0.2], bins=50,edgecolor='b',alpha=0.5,label='Sea Error');\n",
    "plt.hist(count_error['land'],range=[0,0.2], bins = 50,edgecolor='b',alpha=0.5,label='Land Error');\n",
    "plt.hist( count_error['ship'],range=[0,0.2], bins=50,edgecolor='b',alpha=0.5,label='Ship Error');\n",
    "plt.legend()"
   ]
  }
 ],
 "metadata": {
  "kernelspec": {
   "display_name": "Python 3",
   "language": "python",
   "name": "python3"
  },
  "language_info": {
   "codemirror_mode": {
    "name": "ipython",
    "version": 3
   },
   "file_extension": ".py",
   "mimetype": "text/x-python",
   "name": "python",
   "nbconvert_exporter": "python",
   "pygments_lexer": "ipython3",
   "version": "3.7.6"
  }
 },
 "nbformat": 4,
 "nbformat_minor": 4
}
